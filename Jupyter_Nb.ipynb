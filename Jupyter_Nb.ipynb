{
 "cells": [
  {
   "cell_type": "markdown",
   "metadata": {},
   "source": [
    "<center>\n",
    "    <img src=\"https://cf-courses-data.s3.us.cloud-object-storage.appdomain.cloud/IBMDeveloperSkillsNetwork-DS0105EN-SkillsNetwork/labs/Module2/images/SN_web_lightmode.png\" width=\"300\" alt=\"cognitiveclass.ai logo\"  />\n",
    "</center>\n"
   ]
  },
  {
   "cell_type": "markdown",
   "metadata": {},
   "source": [
    "#### Add your code below following the instructions given in the course\n"
   ]
  },
  {
   "cell_type": "markdown",
   "metadata": {},
   "source": [
    "<h1>My Jupyter Notebook on IBM Watson Studio</h1>"
   ]
  },
  {
   "cell_type": "markdown",
   "metadata": {},
   "source": [
    "<strong>Name : Sahil Kamble</strong> <br>\n",
    "Desired Occupation: Data Scientist"
   ]
  },
  {
   "cell_type": "markdown",
   "metadata": {},
   "source": [
    "_I am interested in Data science because Data Science helps you understand the world around you better by extracting, transforming, and analyzing the data around you._"
   ]
  },
  {
   "cell_type": "markdown",
   "metadata": {},
   "source": [
    "<h3>Python Code for simple multiplication</h3>"
   ]
  },
  {
   "cell_type": "code",
   "execution_count": 4,
   "metadata": {},
   "outputs": [
    {
     "name": "stdout",
     "output_type": "stream",
     "text": [
      "2.76\n"
     ]
    }
   ],
   "source": [
    "n1=1.2\n",
    "n2=2.3\n",
    "n3=n1*n2\n",
    "print(n3)"
   ]
  },
  {
   "cell_type": "markdown",
   "metadata": {},
   "source": [
    "<h4>Popular Lanuages of Data Science</h4>\n",
    "<ol type=\"1\">\n",
    "  <li>Python</li>\n",
    "  <li>R</li>\n",
    "  <li>SOL</li>\n",
    "</ol>\n",
    "<a href=\"https://www.coursera.org/learn/open-source-tools-for-data-science/lecture/2LT2g/languages-of-data-science\">Reference</a>\n",
    "<hr>\n",
    "    \n",
    "<h4>Open Source Tools for Data Science</h4>\n",
    "<ul>\n",
    "  <li>MySQL</li>\n",
    "  <li>PostgreSQL</li>\n",
    "  <li>NoSQL</li>\n",
    "</ul>\n",
    "<a href=\"https://www.coursera.org/learn/open-source-tools-for-data-science/lecture/KtaZO/open-source-tools-for-data-science-part-1\">Reference</a>\n",
    "    "
   ]
  },
  {
   "cell_type": "code",
   "execution_count": null,
   "metadata": {},
   "outputs": [],
   "source": []
  }
 ],
 "metadata": {
  "kernelspec": {
   "display_name": "Python",
   "language": "python",
   "name": "conda-env-python-py"
  },
  "language_info": {
   "codemirror_mode": {
    "name": "ipython",
    "version": 3
   },
   "file_extension": ".py",
   "mimetype": "text/x-python",
   "name": "python",
   "nbconvert_exporter": "python",
   "pygments_lexer": "ipython3",
   "version": "3.7.12"
  }
 },
 "nbformat": 4,
 "nbformat_minor": 4
}
